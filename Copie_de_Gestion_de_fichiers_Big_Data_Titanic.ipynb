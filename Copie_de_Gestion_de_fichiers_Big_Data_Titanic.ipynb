{
  "nbformat": 4,
  "nbformat_minor": 0,
  "metadata": {
    "colab": {
      "provenance": [],
      "authorship_tag": "ABX9TyOQSmcNaPj8UHNdCHbbgPUX",
      "include_colab_link": true
    },
    "kernelspec": {
      "name": "python3",
      "display_name": "Python 3"
    },
    "language_info": {
      "name": "python"
    }
  },
  "cells": [
    {
      "cell_type": "markdown",
      "metadata": {
        "id": "view-in-github",
        "colab_type": "text"
      },
      "source": [
        "<a href=\"https://colab.research.google.com/github/esoulard47/DataAnalyse_BankMarketing/blob/main/Gestion_de_fichiers_Big_Data_Titanic.ipynb\" target=\"_parent\"><img src=\"https://colab.research.google.com/assets/colab-badge.svg\" alt=\"Open In Colab\"/></a>"
      ]
    },
    {
      "cell_type": "markdown",
      "source": [
        "## Gestion de fichiers Big Data  : création d'un modèle prédictif de survie lors du naufrage du Titanic"
      ],
      "metadata": {
        "id": "tp6dsDkBWwU4"
      }
    },
    {
      "cell_type": "markdown",
      "source": [
        "##Manipulation du fichier dans Spark"
      ],
      "metadata": {
        "id": "iuObz4JXRVyT"
      }
    },
    {
      "cell_type": "code",
      "source": [
        "from pyspark.sql import SparkSession\n",
        "\n",
        "# Charger le fichier CSV avec l'option header\n",
        "df = spark.read.csv('titanic_train.csv', header=True, inferSchema=True)\n",
        "\n",
        "# Vérifier que c'est bien un DataFrame\n",
        "print(\"Type de l'objet chargé :\", type(df))\n",
        "# c'est effectivement un dataframe\n",
        "\n",
        "# Afficher les colonnes et leur type\n",
        "print(\"Colonnes du DataFrame :\", df.columns)\n",
        "print(\"Types des colonnes :\", df.dtypes)\n",
        "\n",
        "# Afficher un échantillon des données\n",
        "df.show(5)\n",
        "\n",
        "# Compter le nombre de lignes dans le DataFrame\n",
        "nombre_lignes = df.count()\n",
        "print(f\"Le DataFrame comporte {nombre_lignes} lignes.\")\n",
        "\n",
        "#réponse obtenue : le dataframe comporte 891 lignes"
      ],
      "metadata": {
        "colab": {
          "base_uri": "https://localhost:8080/"
        },
        "id": "JgDlMd8eRY08",
        "outputId": "59d02dfc-c83b-42a1-8306-c1110f47e810"
      },
      "execution_count": null,
      "outputs": [
        {
          "output_type": "stream",
          "name": "stdout",
          "text": [
            "Type de l'objet chargé : <class 'pyspark.sql.dataframe.DataFrame'>\n",
            "Colonnes du DataFrame : ['PassengerId', 'Survived', 'Pclass', 'Name', 'Sex', 'Age', 'SibSp', 'Parch', 'Ticket', 'Fare', 'Cabin', 'Embarked']\n",
            "Types des colonnes : [('PassengerId', 'int'), ('Survived', 'int'), ('Pclass', 'int'), ('Name', 'string'), ('Sex', 'string'), ('Age', 'double'), ('SibSp', 'int'), ('Parch', 'int'), ('Ticket', 'string'), ('Fare', 'double'), ('Cabin', 'string'), ('Embarked', 'string')]\n",
            "+-----------+--------+------+--------------------+------+----+-----+-----+----------------+-------+-----+--------+\n",
            "|PassengerId|Survived|Pclass|                Name|   Sex| Age|SibSp|Parch|          Ticket|   Fare|Cabin|Embarked|\n",
            "+-----------+--------+------+--------------------+------+----+-----+-----+----------------+-------+-----+--------+\n",
            "|          1|       0|     3|Braund, Mr. Owen ...|  male|22.0|    1|    0|       A/5 21171|   7.25| NULL|       S|\n",
            "|          2|       1|     1|Cumings, Mrs. Joh...|female|38.0|    1|    0|        PC 17599|71.2833|  C85|       C|\n",
            "|          3|       1|     3|Heikkinen, Miss. ...|female|26.0|    0|    0|STON/O2. 3101282|  7.925| NULL|       S|\n",
            "|          4|       1|     1|Futrelle, Mrs. Ja...|female|35.0|    1|    0|          113803|   53.1| C123|       S|\n",
            "|          5|       0|     3|Allen, Mr. Willia...|  male|35.0|    0|    0|          373450|   8.05| NULL|       S|\n",
            "+-----------+--------+------+--------------------+------+----+-----+-----+----------------+-------+-----+--------+\n",
            "only showing top 5 rows\n",
            "\n",
            "Le DataFrame comporte 891 lignes.\n"
          ]
        }
      ]
    },
    {
      "cell_type": "markdown",
      "source": [
        "Comparatif avec pandas"
      ],
      "metadata": {
        "id": "fIyjeQkfTKS8"
      }
    },
    {
      "cell_type": "code",
      "source": [
        "# Convertir le DataFrame Spark en DataFrame Pandas\n",
        "df_pandas = df.toPandas()\n",
        "\n",
        "# Vérifier le type de l'objet converti\n",
        "print(\"Type de l'objet converti :\", type(df_pandas))\n",
        "\n",
        "# Afficher un aperçu des données avec Pandas\n",
        "print(df_pandas.head())\n",
        "\n",
        "# Vérifier la taille en mémoire du DataFrame Pandas\n",
        "print(\"Taille approximative en mémoire : {:.2f} MB\".format(df_pandas.memory_usage(deep=True).sum() / (1024 * 1024)))\n",
        "# Le fichier d'entrainement est effectivement petit, avec une taille en mémoire de 0,29 MB\n",
        "\n",
        "# Pandas a des commandes très utiles n'existant pas en pySpark, comme head() ou describe()\n",
        "# Mais Pandas n'est pas capable de traiter les grands jeux de données, pour lesquel Spark est conçu\n",
        "# car Spark peut travailler en cluster, ce que Pandas ne peut pas faire"
      ],
      "metadata": {
        "colab": {
          "base_uri": "https://localhost:8080/"
        },
        "collapsed": true,
        "id": "jtqSBhEnTMVr",
        "outputId": "be22a5b8-7835-431b-fc19-fc38352c646f"
      },
      "execution_count": null,
      "outputs": [
        {
          "output_type": "stream",
          "name": "stdout",
          "text": [
            "Type de l'objet converti : <class 'pandas.core.frame.DataFrame'>\n",
            "   PassengerId  Survived  Pclass  \\\n",
            "0            1         0       3   \n",
            "1            2         1       1   \n",
            "2            3         1       3   \n",
            "3            4         1       1   \n",
            "4            5         0       3   \n",
            "\n",
            "                                                Name     Sex   Age  SibSp  \\\n",
            "0                            Braund, Mr. Owen Harris    male  22.0      1   \n",
            "1  Cumings, Mrs. John Bradley (Florence Briggs Th...  female  38.0      1   \n",
            "2                             Heikkinen, Miss. Laina  female  26.0      0   \n",
            "3       Futrelle, Mrs. Jacques Heath (Lily May Peel)  female  35.0      1   \n",
            "4                           Allen, Mr. William Henry    male  35.0      0   \n",
            "\n",
            "   Parch            Ticket     Fare Cabin Embarked  \n",
            "0      0         A/5 21171   7.2500  None        S  \n",
            "1      0          PC 17599  71.2833   C85        C  \n",
            "2      0  STON/O2. 3101282   7.9250  None        S  \n",
            "3      0            113803  53.1000  C123        S  \n",
            "4      0            373450   8.0500  None        S  \n",
            "Taille approximative en mémoire : 0.29 MB\n"
          ]
        }
      ]
    },
    {
      "cell_type": "markdown",
      "source": [
        "Conversion des colonnes qui devraient être en float"
      ],
      "metadata": {
        "id": "g9QNl8RWUudT"
      }
    },
    {
      "cell_type": "code",
      "source": [
        "# Rappel des Types des colonnes : [('PassengerId', 'int'), ('Survived', 'int'), ('Pclass', 'int'), ('Name', 'string'), ('Sex', 'string'), ('Age', 'double'), ('SibSp', 'int'), ('Parch', 'int'), ('Ticket', 'string'), ('Fare', 'double'), ('Cabin', 'string'), ('Embarked', 'string')]\n",
        "# 'Age' et 'Fair' sont déjà en double (l'équivalent de float pour Spark), donc aucune nécessité de les changer\n",
        "# 'name', 'sex', 'ticket', 'cabin', 'embarked' sont des string, aucun intérêt de les modifier non plus\n",
        "# On peut éventuellement faire un one hot encoding pour analyse ultérieure, sous réserve que ce soit intéressant\n",
        "\n",
        "# les colonnes que l'on peut changer en float sont 'passenger ID', 'Survived', 'PClass', 'Sibsp'et 'Parch'.\n",
        "# Mais est-ce réellement pertinent ? Les ID pourraient être des string. il n'est pas pertinent d'en faire des nombres pour des calculs\n",
        "# La survie et la classe des passagers sont des catégorisations. Elles ne sont pas non plus pertinentes pour des calculs\n",
        "# Je choisi donc de tranformer uniquement les colonnes 'Sibsp' et 'Parch',\n",
        "# parce que je ne peux pas déduire la nature de ces colonnes par leur entête\n",
        "\n",
        "from pyspark.sql.functions import col\n",
        "\n",
        "# Définir les colonnes à convertir\n",
        "colonnes_a_convertir = ['SibSp', 'Parch']\n",
        "\n",
        "# Appliquer la conversion pour chaque colonne\n",
        "for colonne in colonnes_a_convertir:\n",
        "    df = df.withColumn(colonne, col(colonne).cast('float'))\n",
        "\n",
        "# Afficher les types des colonnes après conversion\n",
        "print(\"Types des colonnes après conversion :\", df.dtypes)\n",
        "\n",
        "# Afficher les premières valeurs des colonnes converties pour vérification\n",
        "df.select(*colonnes_a_convertir).show(5)"
      ],
      "metadata": {
        "colab": {
          "base_uri": "https://localhost:8080/"
        },
        "id": "VmICZJViU3-r",
        "outputId": "e8c1cef1-2fe0-4b0b-e621-8e856d3af085"
      },
      "execution_count": null,
      "outputs": [
        {
          "output_type": "stream",
          "name": "stdout",
          "text": [
            "Types des colonnes après conversion : [('PassengerId', 'int'), ('Survived', 'int'), ('Pclass', 'int'), ('Name', 'string'), ('Sex', 'string'), ('Age', 'double'), ('SibSp', 'float'), ('Parch', 'float'), ('Ticket', 'string'), ('Fare', 'double'), ('Cabin', 'string'), ('Embarked', 'string')]\n",
            "+-----+-----+\n",
            "|SibSp|Parch|\n",
            "+-----+-----+\n",
            "|  1.0|  0.0|\n",
            "|  1.0|  0.0|\n",
            "|  0.0|  0.0|\n",
            "|  1.0|  0.0|\n",
            "|  0.0|  0.0|\n",
            "+-----+-----+\n",
            "only showing top 5 rows\n",
            "\n"
          ]
        }
      ]
    },
    {
      "cell_type": "markdown",
      "source": [
        "Visualisation du jeu de données + analyse succinte"
      ],
      "metadata": {
        "id": "AqxJRgquZGer"
      }
    },
    {
      "cell_type": "code",
      "source": [
        "# Appliquer la méthode describe() pour obtenir une vue d'ensemble\n",
        "df.describe().show()\n",
        "\n",
        "# Analyse : Je ne prend en compte que les colonnes pertinentes\n",
        "\n",
        "# Passenger ID : 891 passagers, il semblerait qu'il n'y ai pas de ligne nulle. A confirmer\n",
        "\n",
        "# Survived : 38 % de passagers survivants selon la moyenne si on suppose que 1 = survie. A confirmer\n",
        "\n",
        "# Pclass : la majorité des passagers étaient en seconde et troisième, ce qui logique\n",
        "# la première classe était réservée aux plus riches, fatalement minoritaires\n",
        "\n",
        "# Age : Moyenne à presque 30 ans. Logique. On ne s'embarque par pour un nouveau continent lorsqu'on est vieux\n",
        "# le plus âgé a quand même 80 ans, probablement un passager emmené par sa famille.\n",
        "# la présence de passagers de moins d'un an confirme que des familles entières étaient sur le bateau\n",
        "\n",
        "# Fare : Le prix moyen du billet était de 32 dollars (livres ? Les deux monnaies étaient acceptées)\n",
        "# Il y a des passagers voyageant gratuitement. il est peut probable que ce soient des passagers conventionnels,\n",
        "# peut-être des invités de la compagnie ou des chantiers navals à l'origine du bateau.\n",
        "# On peut supposer qu'il s'agit des membres de l'équipage.\n",
        "# Historiquement, le fondateur de la compagnie exploitant le bateau,\n",
        "# la White Star, occupait l'une des suites. IL est peu probable qu'il ait acheté un billet\n",
        "# Le prix le plus haut est de 512, peut-être des dollars. Le tarif le plus élevé était de 660 livres sterling de 1912\n",
        "# le tarif a-t-il été converti en dollars actuels ?\n",
        "# seulement 889 passagers ont été noté comme embarqués, mais le listing est de 891, ce qui fait 2 exceptions\n"
      ],
      "metadata": {
        "colab": {
          "base_uri": "https://localhost:8080/"
        },
        "id": "qm0JLbUwV6N8",
        "outputId": "66fe0976-6dc4-4b67-9563-028f19220df9"
      },
      "execution_count": null,
      "outputs": [
        {
          "output_type": "stream",
          "name": "stdout",
          "text": [
            "+-------+-----------------+-------------------+------------------+--------------------+------+------------------+------------------+-------------------+------------------+-----------------+-----+--------+\n",
            "|summary|      PassengerId|           Survived|            Pclass|                Name|   Sex|               Age|             SibSp|              Parch|            Ticket|             Fare|Cabin|Embarked|\n",
            "+-------+-----------------+-------------------+------------------+--------------------+------+------------------+------------------+-------------------+------------------+-----------------+-----+--------+\n",
            "|  count|              891|                891|               891|                 891|   891|               714|               891|                891|               891|              891|  204|     889|\n",
            "|   mean|            446.0| 0.3838383838383838| 2.308641975308642|                NULL|  NULL| 29.69911764705882|0.5230078563411896|0.38159371492704824|260318.54916792738| 32.2042079685746| NULL|    NULL|\n",
            "| stddev|257.3538420152301|0.48659245426485753|0.8360712409770491|                NULL|  NULL|14.526497332334035|1.1027434322934315| 0.8060572211299488|471609.26868834975|49.69342859718089| NULL|    NULL|\n",
            "|    min|                1|                  0|                 1|\"Andersson, Mr. A...|female|              0.42|               0.0|                0.0|            110152|              0.0|  A10|       C|\n",
            "|    max|              891|                  1|                 3|van Melkebeke, Mr...|  male|              80.0|               8.0|                6.0|         WE/P 5735|         512.3292|    T|       S|\n",
            "+-------+-----------------+-------------------+------------------+--------------------+------+------------------+------------------+-------------------+------------------+-----------------+-----+--------+\n",
            "\n"
          ]
        }
      ]
    },
    {
      "cell_type": "markdown",
      "source": [
        "Gestion des valeurs nulles"
      ],
      "metadata": {
        "id": "7RKtQQBEuq50"
      }
    },
    {
      "cell_type": "code",
      "source": [
        "from pyspark.sql.functions import col, isnull, count\n",
        "\n",
        "# Calculer le nombre de valeurs nulles pour chaque colonne\n",
        "valeurs_nulles = [(c, df.filter(col(c).isNull()).count()) for c in df.columns]\n",
        "\n",
        "# Afficher sous forme de tableau\n",
        "for colonne, nombre_nulles in valeurs_nulles:\n",
        "    print(f\"Colonne: {colonne}, Valeurs nulles: {nombre_nulles}\")\n",
        "\n",
        "# NOTE : la commande count(isnull(col(c))) a renvoyé 100% de valeurs nulles dans toute les colonnes\n",
        "# ce qui est un résultat faux\n",
        "# j'ai donc opté pour un filtre.\n",
        "# le premier code testé était :\n",
        "#valeurs_nulles = df.select([\n",
        "    #count(isnull(col(c))).alias(c) for c in df.columns\n",
        "    #])\n"
      ],
      "metadata": {
        "colab": {
          "base_uri": "https://localhost:8080/"
        },
        "id": "k-W8-AA9rX70",
        "outputId": "c1550b61-92ef-44fb-cfc7-32d973fd88e1"
      },
      "execution_count": null,
      "outputs": [
        {
          "output_type": "stream",
          "name": "stdout",
          "text": [
            "Colonne: PassengerId, Valeurs nulles: 0\n",
            "Colonne: Survived, Valeurs nulles: 0\n",
            "Colonne: Pclass, Valeurs nulles: 0\n",
            "Colonne: Name, Valeurs nulles: 0\n",
            "Colonne: Sex, Valeurs nulles: 0\n",
            "Colonne: Age, Valeurs nulles: 177\n",
            "Colonne: SibSp, Valeurs nulles: 0\n",
            "Colonne: Parch, Valeurs nulles: 0\n",
            "Colonne: Ticket, Valeurs nulles: 0\n",
            "Colonne: Fare, Valeurs nulles: 0\n",
            "Colonne: Cabin, Valeurs nulles: 687\n",
            "Colonne: Embarked, Valeurs nulles: 2\n"
          ]
        }
      ]
    },
    {
      "cell_type": "code",
      "source": [
        "# la majorité des valeurs nulles est trouvé dans 'Age' et 'Cabin'\n",
        "# Il n'est pas pertinent d'analyser 'cabin', car cette donnée a été visiblement mal remontée\n",
        "# Excepté cette colonne, nous avons effectivement 2 passagers manquants à l'embarquement\n",
        "# et 177 âges manquants"
      ],
      "metadata": {
        "id": "hfz-gj2-wnUi"
      },
      "execution_count": null,
      "outputs": []
    },
    {
      "cell_type": "markdown",
      "source": [
        "replacement des valeurs manquantes par None"
      ],
      "metadata": {
        "id": "GZNy8R71yabs"
      }
    },
    {
      "cell_type": "code",
      "source": [
        "from pyspark.sql.functions import col\n",
        "\n",
        "# Afficher les valeurs distinctes de la colonne 'Age'\n",
        "print(\"Valeurs distinctes dans 'Age' :\")\n",
        "df.select(\"Age\").distinct().show()\n",
        "\n",
        "# le code précédent permet d'identifier que les valeurs manquantes dans la colonne 'age'\n",
        "# sont répertoriées en tant que NULL\n",
        "# Je compte donc le nombre d'occurence de NULL dans la colonne 'Age'\n",
        "\n",
        "nombre_null_age = df.filter(col(\"Age\").isNull()).count()\n",
        "print(f\"Nombre de valeurs NULL (manquantes) dans la colonne 'Age' : {nombre_null_age}\")\n",
        "\n",
        "# Le nombre obtenu est de 177, ce qui correspond au nombre de valeurs manquantes\n",
        "# Toutes les valeurs manquantes de la colonne 'Age' sont donc NULL\n",
        "# Il est ensuite facile de les remplacer\n",
        "\n",
        "\n",
        "# Afficher les valeurs distinctes de la colonne 'Embarked'\n",
        "print(\"Valeurs distinctes dans 'Embarked' :\")\n",
        "df.select(\"Embarked\").distinct().show()\n",
        "nombre_null_emb = df.filter(col(\"Embarked\").isNull()).count()\n",
        "print(f\"Nombre de valeurs NULL (manquantes) dans la colonne 'Embarkedge' : {nombre_null_emb}\")\n",
        "\n",
        "# le code précédent permet d'identifier que les valeurs manquantes dans la colonne 'Embarked'\n",
        "# sont répertoriées sous le terme NULL\n",
        "# Je compte donc le nombre d'occurence de NULL dans la colonne 'Embarked' : 2 ce qui correspond au résultat précédent."
      ],
      "metadata": {
        "colab": {
          "base_uri": "https://localhost:8080/"
        },
        "id": "qAQyAEY8w3gL",
        "outputId": "19ab6a9c-a71f-469a-d3f9-00dba19186e3"
      },
      "execution_count": null,
      "outputs": [
        {
          "output_type": "stream",
          "name": "stdout",
          "text": [
            "Valeurs distinctes dans 'Age' :\n",
            "+----+\n",
            "| Age|\n",
            "+----+\n",
            "| 8.0|\n",
            "|70.0|\n",
            "|0.92|\n",
            "|0.42|\n",
            "|0.67|\n",
            "|0.83|\n",
            "| 7.0|\n",
            "|20.5|\n",
            "|49.0|\n",
            "|29.0|\n",
            "|40.5|\n",
            "|64.0|\n",
            "|47.0|\n",
            "|42.0|\n",
            "|24.5|\n",
            "|44.0|\n",
            "|35.0|\n",
            "|NULL|\n",
            "|62.0|\n",
            "|18.0|\n",
            "+----+\n",
            "only showing top 20 rows\n",
            "\n",
            "Nombre de valeurs NULL (manquantes) dans la colonne 'Age' : 177\n",
            "Valeurs distinctes dans 'Embarked' :\n",
            "+--------+\n",
            "|Embarked|\n",
            "+--------+\n",
            "|       Q|\n",
            "|       C|\n",
            "|       S|\n",
            "|    NULL|\n",
            "+--------+\n",
            "\n",
            "Nombre de valeurs NULL (manquantes) dans la colonne 'Embarkedge' : 2\n"
          ]
        }
      ]
    },
    {
      "cell_type": "code",
      "source": [
        "from pyspark.sql.functions import when, col\n",
        "\n",
        "# Remplacer les valeurs NULL par None dans toutes les colonnes\n",
        "df = df.select(\n",
        "    [when(col(c).isNull(), None).otherwise(col(c)).alias(c) for c in df.columns]\n",
        ")\n",
        "\n",
        "# Vérification\n",
        "print(\"Vérification après transformation :\")\n",
        "df.show(10)\n",
        "df.printSchema()\n",
        "\n",
        "# Vérifier qu'il ne reste plus de valeurs NULL\n",
        "for colonne in df.columns:\n",
        "    null_count = df.filter(col(colonne).isNull()).count()\n",
        "    print(f\"Colonne '{colonne}': Nombre de valeurs NULL restantes : {null_count}\")\n",
        "\n",
        "# l'execution complète a prit 49 secondes."
      ],
      "metadata": {
        "colab": {
          "base_uri": "https://localhost:8080/"
        },
        "id": "dZIZ6tpy43Cs",
        "outputId": "8e715440-6d72-44cc-cdec-5e8c32005df0"
      },
      "execution_count": null,
      "outputs": [
        {
          "output_type": "stream",
          "name": "stdout",
          "text": [
            "Vérification après transformation :\n",
            "+-----------+--------+------+--------------------+------+----+-----+-----+----------------+-------+-----+--------+\n",
            "|PassengerId|Survived|Pclass|                Name|   Sex| Age|SibSp|Parch|          Ticket|   Fare|Cabin|Embarked|\n",
            "+-----------+--------+------+--------------------+------+----+-----+-----+----------------+-------+-----+--------+\n",
            "|          1|       0|     3|Braund, Mr. Owen ...|  male|22.0|  1.0|  0.0|       A/5 21171|   7.25| NULL|       S|\n",
            "|          2|       1|     1|Cumings, Mrs. Joh...|female|38.0|  1.0|  0.0|        PC 17599|71.2833|  C85|       C|\n",
            "|          3|       1|     3|Heikkinen, Miss. ...|female|26.0|  0.0|  0.0|STON/O2. 3101282|  7.925| NULL|       S|\n",
            "|          4|       1|     1|Futrelle, Mrs. Ja...|female|35.0|  1.0|  0.0|          113803|   53.1| C123|       S|\n",
            "|          5|       0|     3|Allen, Mr. Willia...|  male|35.0|  0.0|  0.0|          373450|   8.05| NULL|       S|\n",
            "|          6|       0|     3|    Moran, Mr. James|  male|NULL|  0.0|  0.0|          330877| 8.4583| NULL|       Q|\n",
            "|          7|       0|     1|McCarthy, Mr. Tim...|  male|54.0|  0.0|  0.0|           17463|51.8625|  E46|       S|\n",
            "|          8|       0|     3|Palsson, Master. ...|  male| 2.0|  3.0|  1.0|          349909| 21.075| NULL|       S|\n",
            "|          9|       1|     3|Johnson, Mrs. Osc...|female|27.0|  0.0|  2.0|          347742|11.1333| NULL|       S|\n",
            "|         10|       1|     2|Nasser, Mrs. Nich...|female|14.0|  1.0|  0.0|          237736|30.0708| NULL|       C|\n",
            "+-----------+--------+------+--------------------+------+----+-----+-----+----------------+-------+-----+--------+\n",
            "only showing top 10 rows\n",
            "\n",
            "root\n",
            " |-- PassengerId: integer (nullable = true)\n",
            " |-- Survived: integer (nullable = true)\n",
            " |-- Pclass: integer (nullable = true)\n",
            " |-- Name: string (nullable = true)\n",
            " |-- Sex: string (nullable = true)\n",
            " |-- Age: double (nullable = true)\n",
            " |-- SibSp: float (nullable = true)\n",
            " |-- Parch: float (nullable = true)\n",
            " |-- Ticket: string (nullable = true)\n",
            " |-- Fare: double (nullable = true)\n",
            " |-- Cabin: string (nullable = true)\n",
            " |-- Embarked: string (nullable = true)\n",
            "\n",
            "Colonne 'PassengerId': Nombre de valeurs NULL restantes : 0\n",
            "Colonne 'Survived': Nombre de valeurs NULL restantes : 0\n",
            "Colonne 'Pclass': Nombre de valeurs NULL restantes : 0\n",
            "Colonne 'Name': Nombre de valeurs NULL restantes : 0\n",
            "Colonne 'Sex': Nombre de valeurs NULL restantes : 0\n",
            "Colonne 'Age': Nombre de valeurs NULL restantes : 177\n",
            "Colonne 'SibSp': Nombre de valeurs NULL restantes : 0\n",
            "Colonne 'Parch': Nombre de valeurs NULL restantes : 0\n",
            "Colonne 'Ticket': Nombre de valeurs NULL restantes : 0\n",
            "Colonne 'Fare': Nombre de valeurs NULL restantes : 0\n",
            "Colonne 'Cabin': Nombre de valeurs NULL restantes : 687\n",
            "Colonne 'Embarked': Nombre de valeurs NULL restantes : 2\n"
          ]
        }
      ]
    },
    {
      "cell_type": "markdown",
      "source": [
        "Suppression de toutes les valeurs nulle"
      ],
      "metadata": {
        "id": "OWKT2Vmj5h6L"
      }
    },
    {
      "cell_type": "code",
      "source": [
        "# Supprimer les lignes contenant au moins une valeur NULL\n",
        "df_sans_null = df.dropna(how='any')\n",
        "\n",
        "# Afficher les résultats\n",
        "print(\"DataFrame après suppression des lignes contenant des valeurs NULL :\")\n",
        "df_sans_null.show()\n",
        "\n",
        "# Afficher le nombre de lignes restantes\n",
        "print(f\"Nombre de lignes restantes : {df_sans_null.count()}\")\n",
        "\n",
        "# Il reste 183 lignes au final. Les 687 cabines vides ont supprimé la majeure partie du df.\n",
        "# IL est pertinent de se poser la question d'exclure la colonne 'Cabin' avant cette étape\n",
        "# pour conserver de la puissance statistique dans l'analyse et dans l'entrainement du modèle\n",
        "\n",
        "# l'execution a prit 1 min 22 sec"
      ],
      "metadata": {
        "colab": {
          "base_uri": "https://localhost:8080/"
        },
        "id": "6DWbrexI5i0E",
        "outputId": "6d90d749-239b-4d36-e1b7-e4f166de116c"
      },
      "execution_count": null,
      "outputs": [
        {
          "output_type": "stream",
          "name": "stdout",
          "text": [
            "DataFrame après suppression des lignes contenant des valeurs NULL :\n",
            "+-----------+--------+------+--------------------+------+----+-----+-----+-----------+--------+-----------+--------+\n",
            "|PassengerId|Survived|Pclass|                Name|   Sex| Age|SibSp|Parch|     Ticket|    Fare|      Cabin|Embarked|\n",
            "+-----------+--------+------+--------------------+------+----+-----+-----+-----------+--------+-----------+--------+\n",
            "|          2|       1|     1|Cumings, Mrs. Joh...|female|38.0|  1.0|  0.0|   PC 17599| 71.2833|        C85|       C|\n",
            "|          4|       1|     1|Futrelle, Mrs. Ja...|female|35.0|  1.0|  0.0|     113803|    53.1|       C123|       S|\n",
            "|          7|       0|     1|McCarthy, Mr. Tim...|  male|54.0|  0.0|  0.0|      17463| 51.8625|        E46|       S|\n",
            "|         11|       1|     3|Sandstrom, Miss. ...|female| 4.0|  1.0|  1.0|    PP 9549|    16.7|         G6|       S|\n",
            "|         12|       1|     1|Bonnell, Miss. El...|female|58.0|  0.0|  0.0|     113783|   26.55|       C103|       S|\n",
            "|         22|       1|     2|Beesley, Mr. Lawr...|  male|34.0|  0.0|  0.0|     248698|    13.0|        D56|       S|\n",
            "|         24|       1|     1|Sloper, Mr. Willi...|  male|28.0|  0.0|  0.0|     113788|    35.5|         A6|       S|\n",
            "|         28|       0|     1|Fortune, Mr. Char...|  male|19.0|  3.0|  2.0|      19950|   263.0|C23 C25 C27|       S|\n",
            "|         53|       1|     1|Harper, Mrs. Henr...|female|49.0|  1.0|  0.0|   PC 17572| 76.7292|        D33|       C|\n",
            "|         55|       0|     1|Ostby, Mr. Engelh...|  male|65.0|  0.0|  1.0|     113509| 61.9792|        B30|       C|\n",
            "|         63|       0|     1|Harris, Mr. Henry...|  male|45.0|  1.0|  0.0|      36973|  83.475|        C83|       S|\n",
            "|         67|       1|     2|Nye, Mrs. (Elizab...|female|29.0|  0.0|  0.0| C.A. 29395|    10.5|        F33|       S|\n",
            "|         76|       0|     3|Moen, Mr. Sigurd ...|  male|25.0|  0.0|  0.0|     348123|    7.65|      F G73|       S|\n",
            "|         89|       1|     1|Fortune, Miss. Ma...|female|23.0|  3.0|  2.0|      19950|   263.0|C23 C25 C27|       S|\n",
            "|         93|       0|     1|Chaffee, Mr. Herb...|  male|46.0|  1.0|  0.0|W.E.P. 5734|  61.175|        E31|       S|\n",
            "|         97|       0|     1|Goldschmidt, Mr. ...|  male|71.0|  0.0|  0.0|   PC 17754| 34.6542|         A5|       C|\n",
            "|         98|       1|     1|Greenfield, Mr. W...|  male|23.0|  0.0|  1.0|   PC 17759| 63.3583|    D10 D12|       C|\n",
            "|        103|       0|     1|White, Mr. Richar...|  male|21.0|  0.0|  1.0|      35281| 77.2875|        D26|       S|\n",
            "|        111|       0|     1|Porter, Mr. Walte...|  male|47.0|  0.0|  0.0|     110465|    52.0|       C110|       S|\n",
            "|        119|       0|     1|Baxter, Mr. Quigg...|  male|24.0|  0.0|  1.0|   PC 17558|247.5208|    B58 B60|       C|\n",
            "+-----------+--------+------+--------------------+------+----+-----+-----+-----------+--------+-----------+--------+\n",
            "only showing top 20 rows\n",
            "\n",
            "Nombre de lignes restantes : 183\n"
          ]
        }
      ]
    },
    {
      "cell_type": "code",
      "source": [
        "# le df sera trop petit pour l'exploitation par Spark, je reviens en arrière\n",
        "# objectif : ne supprimer les null que pour 'Age' et 'Embarked\n",
        "\n",
        "# Supprimer les lignes où 'Age' ou 'Embarked' contient des NULL\n",
        "df = df.dropna(subset=['Age', 'Embarked'])\n",
        "\n",
        "# Vérifier le nombre de lignes restantes\n",
        "print(f\"Nombre de lignes restantes après suppression des NULL dans 'Age' et 'Embarked' : {df.count()}\")\n",
        "\n",
        "# Nombre de lignes restantes = 712\n"
      ],
      "metadata": {
        "colab": {
          "base_uri": "https://localhost:8080/"
        },
        "id": "woRbWbIF858U",
        "outputId": "abdb3d39-c4c1-4f8d-e45f-83cf981ea406"
      },
      "execution_count": null,
      "outputs": [
        {
          "output_type": "stream",
          "name": "stdout",
          "text": [
            "Nombre de lignes restantes après suppression des NULL dans 'Age' et 'Embarked' : 712\n"
          ]
        }
      ]
    },
    {
      "cell_type": "markdown",
      "source": [
        "Vérification que nous ne travaillons qu'avec des données numériques"
      ],
      "metadata": {
        "id": "ILtO4FWQ-Hor"
      }
    },
    {
      "cell_type": "code",
      "source": [
        "from pyspark.ml.feature import StringIndexer\n",
        "\n",
        "# Étape 1 : Identifier les colonnes catégoriques à convertir\n",
        "colonnes_categoriques = ['Sex', 'Embarked']  # Liste des colonnes catégoriques à transformer\n",
        "\n",
        "# Appliquer StringIndexer à chaque colonne catégorique\n",
        "for colonne in colonnes_categoriques:\n",
        "    indexer = StringIndexer(inputCol=colonne, outputCol=colonne + \"_Index\", handleInvalid='keep')\n",
        "    df = indexer.fit(df).transform(df)\n",
        "\n",
        "# Étape 2 : Afficher les colonnes après transformation\n",
        "print(\"Colonnes après application de StringIndexer :\")\n",
        "df.show()\n",
        "\n",
        "# Étape 3 : Identifier les colonnes non numériques\n",
        "colonnes_non_numeriques = ['PassengerId', 'Name', 'Ticket', 'Cabin', 'Sex', 'Embarked']\n",
        "\n",
        "# Supprimer les colonnes non numériques\n",
        "df = df.drop(*colonnes_non_numeriques)\n",
        "\n",
        "# Étape 4 : Vérifier les colonnes restantes\n",
        "print(\"Schéma du DataFrame après suppression des colonnes non numériques :\")\n",
        "df.printSchema()\n",
        "\n",
        "# Afficher un échantillon des données\n",
        "print(\"Échantillon des données finales :\")\n",
        "df.show(10)\n",
        "\n",
        "# l'échantillon montre bien 100% de colonnes numériques"
      ],
      "metadata": {
        "colab": {
          "base_uri": "https://localhost:8080/"
        },
        "id": "s6gRd-_r-Aor",
        "outputId": "7f90a5f1-647d-4199-da27-3ad93662a8ff"
      },
      "execution_count": null,
      "outputs": [
        {
          "output_type": "stream",
          "name": "stdout",
          "text": [
            "Colonnes après application de StringIndexer :\n",
            "+-----------+--------+------+--------------------+------+----+-----+-----+----------------+-------+-----+--------+---------+--------------+\n",
            "|PassengerId|Survived|Pclass|                Name|   Sex| Age|SibSp|Parch|          Ticket|   Fare|Cabin|Embarked|Sex_Index|Embarked_Index|\n",
            "+-----------+--------+------+--------------------+------+----+-----+-----+----------------+-------+-----+--------+---------+--------------+\n",
            "|          1|       0|     3|Braund, Mr. Owen ...|  male|22.0|  1.0|  0.0|       A/5 21171|   7.25| NULL|       S|      0.0|           0.0|\n",
            "|          2|       1|     1|Cumings, Mrs. Joh...|female|38.0|  1.0|  0.0|        PC 17599|71.2833|  C85|       C|      1.0|           1.0|\n",
            "|          3|       1|     3|Heikkinen, Miss. ...|female|26.0|  0.0|  0.0|STON/O2. 3101282|  7.925| NULL|       S|      1.0|           0.0|\n",
            "|          4|       1|     1|Futrelle, Mrs. Ja...|female|35.0|  1.0|  0.0|          113803|   53.1| C123|       S|      1.0|           0.0|\n",
            "|          5|       0|     3|Allen, Mr. Willia...|  male|35.0|  0.0|  0.0|          373450|   8.05| NULL|       S|      0.0|           0.0|\n",
            "|          7|       0|     1|McCarthy, Mr. Tim...|  male|54.0|  0.0|  0.0|           17463|51.8625|  E46|       S|      0.0|           0.0|\n",
            "|          8|       0|     3|Palsson, Master. ...|  male| 2.0|  3.0|  1.0|          349909| 21.075| NULL|       S|      0.0|           0.0|\n",
            "|          9|       1|     3|Johnson, Mrs. Osc...|female|27.0|  0.0|  2.0|          347742|11.1333| NULL|       S|      1.0|           0.0|\n",
            "|         10|       1|     2|Nasser, Mrs. Nich...|female|14.0|  1.0|  0.0|          237736|30.0708| NULL|       C|      1.0|           1.0|\n",
            "|         11|       1|     3|Sandstrom, Miss. ...|female| 4.0|  1.0|  1.0|         PP 9549|   16.7|   G6|       S|      1.0|           0.0|\n",
            "|         12|       1|     1|Bonnell, Miss. El...|female|58.0|  0.0|  0.0|          113783|  26.55| C103|       S|      1.0|           0.0|\n",
            "|         13|       0|     3|Saundercock, Mr. ...|  male|20.0|  0.0|  0.0|       A/5. 2151|   8.05| NULL|       S|      0.0|           0.0|\n",
            "|         14|       0|     3|Andersson, Mr. An...|  male|39.0|  1.0|  5.0|          347082| 31.275| NULL|       S|      0.0|           0.0|\n",
            "|         15|       0|     3|Vestrom, Miss. Hu...|female|14.0|  0.0|  0.0|          350406| 7.8542| NULL|       S|      1.0|           0.0|\n",
            "|         16|       1|     2|Hewlett, Mrs. (Ma...|female|55.0|  0.0|  0.0|          248706|   16.0| NULL|       S|      1.0|           0.0|\n",
            "|         17|       0|     3|Rice, Master. Eugene|  male| 2.0|  4.0|  1.0|          382652| 29.125| NULL|       Q|      0.0|           2.0|\n",
            "|         19|       0|     3|Vander Planke, Mr...|female|31.0|  1.0|  0.0|          345763|   18.0| NULL|       S|      1.0|           0.0|\n",
            "|         21|       0|     2|Fynney, Mr. Joseph J|  male|35.0|  0.0|  0.0|          239865|   26.0| NULL|       S|      0.0|           0.0|\n",
            "|         22|       1|     2|Beesley, Mr. Lawr...|  male|34.0|  0.0|  0.0|          248698|   13.0|  D56|       S|      0.0|           0.0|\n",
            "|         23|       1|     3|\"McGowan, Miss. A...|female|15.0|  0.0|  0.0|          330923| 8.0292| NULL|       Q|      1.0|           2.0|\n",
            "+-----------+--------+------+--------------------+------+----+-----+-----+----------------+-------+-----+--------+---------+--------------+\n",
            "only showing top 20 rows\n",
            "\n",
            "Schéma du DataFrame après suppression des colonnes non numériques :\n",
            "root\n",
            " |-- Survived: integer (nullable = true)\n",
            " |-- Pclass: integer (nullable = true)\n",
            " |-- Age: double (nullable = true)\n",
            " |-- SibSp: float (nullable = true)\n",
            " |-- Parch: float (nullable = true)\n",
            " |-- Fare: double (nullable = true)\n",
            " |-- Sex_Index: double (nullable = false)\n",
            " |-- Embarked_Index: double (nullable = false)\n",
            "\n",
            "Échantillon des données finales :\n",
            "+--------+------+----+-----+-----+-------+---------+--------------+\n",
            "|Survived|Pclass| Age|SibSp|Parch|   Fare|Sex_Index|Embarked_Index|\n",
            "+--------+------+----+-----+-----+-------+---------+--------------+\n",
            "|       0|     3|22.0|  1.0|  0.0|   7.25|      0.0|           0.0|\n",
            "|       1|     1|38.0|  1.0|  0.0|71.2833|      1.0|           1.0|\n",
            "|       1|     3|26.0|  0.0|  0.0|  7.925|      1.0|           0.0|\n",
            "|       1|     1|35.0|  1.0|  0.0|   53.1|      1.0|           0.0|\n",
            "|       0|     3|35.0|  0.0|  0.0|   8.05|      0.0|           0.0|\n",
            "|       0|     1|54.0|  0.0|  0.0|51.8625|      0.0|           0.0|\n",
            "|       0|     3| 2.0|  3.0|  1.0| 21.075|      0.0|           0.0|\n",
            "|       1|     3|27.0|  0.0|  2.0|11.1333|      1.0|           0.0|\n",
            "|       1|     2|14.0|  1.0|  0.0|30.0708|      1.0|           1.0|\n",
            "|       1|     3| 4.0|  1.0|  1.0|   16.7|      1.0|           0.0|\n",
            "+--------+------+----+-----+-----+-------+---------+--------------+\n",
            "only showing top 10 rows\n",
            "\n"
          ]
        }
      ]
    },
    {
      "cell_type": "markdown",
      "source": [
        "Sélection des 5 colonnes utilisées pour le modèle"
      ],
      "metadata": {
        "id": "fjtVIEoH_hHc"
      }
    },
    {
      "cell_type": "code",
      "source": [
        "# Le plus logique pour moi est de ne garder que les colonnes significatives\n",
        "# Survived, Pclass, Age, Fare et Sex-Index.\n",
        "# je ne sais pas à quoi correspondent les autres colonnes\n",
        "\n",
        "# Liste des colonnes sélectionnées pour le modèle\n",
        "colonnes_pour_modele = ['Survived', 'Pclass', 'Age', 'Fare', 'Sex_Index']\n",
        "\n",
        "# Afficher la liste pour vérification\n",
        "print(\"Colonnes sélectionnées pour le modèle :\", colonnes_pour_modele)\n",
        "\n",
        "# Créer un DataFrame avec uniquement les colonnes sélectionnées\n",
        "df_modele = df.select(*colonnes_pour_modele)\n",
        "\n",
        "# Afficher un échantillon du nouveau DataFrame\n",
        "df_modele.show()\n"
      ],
      "metadata": {
        "colab": {
          "base_uri": "https://localhost:8080/"
        },
        "id": "mrZv6BJf_tXU",
        "outputId": "5bff41f0-d989-4486-d0b5-4cd6632ecc5c"
      },
      "execution_count": null,
      "outputs": [
        {
          "output_type": "stream",
          "name": "stdout",
          "text": [
            "Colonnes sélectionnées pour le modèle : ['Survived', 'Pclass', 'Age', 'Fare', 'Sex_Index']\n",
            "+--------+------+----+-------+---------+\n",
            "|Survived|Pclass| Age|   Fare|Sex_Index|\n",
            "+--------+------+----+-------+---------+\n",
            "|       0|     3|22.0|   7.25|      0.0|\n",
            "|       1|     1|38.0|71.2833|      1.0|\n",
            "|       1|     3|26.0|  7.925|      1.0|\n",
            "|       1|     1|35.0|   53.1|      1.0|\n",
            "|       0|     3|35.0|   8.05|      0.0|\n",
            "|       0|     1|54.0|51.8625|      0.0|\n",
            "|       0|     3| 2.0| 21.075|      0.0|\n",
            "|       1|     3|27.0|11.1333|      1.0|\n",
            "|       1|     2|14.0|30.0708|      1.0|\n",
            "|       1|     3| 4.0|   16.7|      1.0|\n",
            "|       1|     1|58.0|  26.55|      1.0|\n",
            "|       0|     3|20.0|   8.05|      0.0|\n",
            "|       0|     3|39.0| 31.275|      0.0|\n",
            "|       0|     3|14.0| 7.8542|      1.0|\n",
            "|       1|     2|55.0|   16.0|      1.0|\n",
            "|       0|     3| 2.0| 29.125|      0.0|\n",
            "|       0|     3|31.0|   18.0|      1.0|\n",
            "|       0|     2|35.0|   26.0|      0.0|\n",
            "|       1|     2|34.0|   13.0|      0.0|\n",
            "|       1|     3|15.0| 8.0292|      1.0|\n",
            "+--------+------+----+-------+---------+\n",
            "only showing top 20 rows\n",
            "\n"
          ]
        }
      ]
    },
    {
      "cell_type": "code",
      "source": [
        "from pyspark.ml.feature import VectorAssembler"
      ],
      "metadata": {
        "id": "5BubPcJQ_3nC"
      },
      "execution_count": null,
      "outputs": []
    },
    {
      "cell_type": "code",
      "source": [
        "# Colonnes à assembler pour former les features\n",
        "colonnes_pour_assembler = ['Pclass', 'Age', 'Fare', 'Sex_Index']\n",
        "\n",
        "# Initialisation du VectorAssembler\n",
        "assembleur = VectorAssembler(inputCols=colonnes_pour_assembler, outputCol='features')\n",
        "\n",
        "# Transformation du DataFrame pour ajouter la colonne 'features'\n",
        "df_modele = assembleur.transform(df)\n",
        "\n",
        "# Afficher les données transformées\n",
        "df_modele.select('features', 'Survived').show(truncate=False)\n",
        "\n",
        "# Nous avons un affichage de 'features', exemple : [3.0,22.0,7.25,0.0]\n",
        "# La colonne \"Survived\" est correctement codée en 1 ou 0\n"
      ],
      "metadata": {
        "id": "_cK-j5h6CkY8",
        "colab": {
          "base_uri": "https://localhost:8080/"
        },
        "outputId": "ccf69e57-8ee5-4da5-9622-86dabe740545"
      },
      "execution_count": null,
      "outputs": [
        {
          "output_type": "stream",
          "name": "stdout",
          "text": [
            "+----------------------+--------+\n",
            "|features              |Survived|\n",
            "+----------------------+--------+\n",
            "|[3.0,22.0,7.25,0.0]   |0       |\n",
            "|[1.0,38.0,71.2833,1.0]|1       |\n",
            "|[3.0,26.0,7.925,1.0]  |1       |\n",
            "|[1.0,35.0,53.1,1.0]   |1       |\n",
            "|[3.0,35.0,8.05,0.0]   |0       |\n",
            "|[1.0,54.0,51.8625,0.0]|0       |\n",
            "|[3.0,2.0,21.075,0.0]  |0       |\n",
            "|[3.0,27.0,11.1333,1.0]|1       |\n",
            "|[2.0,14.0,30.0708,1.0]|1       |\n",
            "|[3.0,4.0,16.7,1.0]    |1       |\n",
            "|[1.0,58.0,26.55,1.0]  |1       |\n",
            "|[3.0,20.0,8.05,0.0]   |0       |\n",
            "|[3.0,39.0,31.275,0.0] |0       |\n",
            "|[3.0,14.0,7.8542,1.0] |0       |\n",
            "|[2.0,55.0,16.0,1.0]   |1       |\n",
            "|[3.0,2.0,29.125,0.0]  |0       |\n",
            "|[3.0,31.0,18.0,1.0]   |0       |\n",
            "|[2.0,35.0,26.0,0.0]   |0       |\n",
            "|[2.0,34.0,13.0,0.0]   |1       |\n",
            "|[3.0,15.0,8.0292,1.0] |1       |\n",
            "+----------------------+--------+\n",
            "only showing top 20 rows\n",
            "\n"
          ]
        }
      ]
    },
    {
      "cell_type": "markdown",
      "source": [
        "Entraînement du modèle"
      ],
      "metadata": {
        "id": "-kiSrMkMDXkj"
      }
    },
    {
      "cell_type": "code",
      "source": [
        "# Vérification du DataFrame transformé\n",
        "transformed_data = assembleur.transform(df)\n",
        "transformed_data.select(\"features\", \"Survived\").show(5, truncate=False)\n",
        "\n",
        "# le df est correctement affiché : exemple de features :[3.0,22.0,7.25,0.0]\n",
        "# exemple de Survived : 0 ou 1\n"
      ],
      "metadata": {
        "id": "vRuIfgWzDcbu",
        "colab": {
          "base_uri": "https://localhost:8080/"
        },
        "outputId": "8816d57e-303c-44e1-fb51-de9950a39325"
      },
      "execution_count": null,
      "outputs": [
        {
          "output_type": "stream",
          "name": "stdout",
          "text": [
            "+----------------------+--------+\n",
            "|features              |Survived|\n",
            "+----------------------+--------+\n",
            "|[3.0,22.0,7.25,0.0]   |0       |\n",
            "|[1.0,38.0,71.2833,1.0]|1       |\n",
            "|[3.0,26.0,7.925,1.0]  |1       |\n",
            "|[1.0,35.0,53.1,1.0]   |1       |\n",
            "|[3.0,35.0,8.05,0.0]   |0       |\n",
            "+----------------------+--------+\n",
            "only showing top 5 rows\n",
            "\n"
          ]
        }
      ]
    },
    {
      "cell_type": "markdown",
      "source": [
        "Division du jeu de données"
      ],
      "metadata": {
        "id": "dSttidPtDkAc"
      }
    },
    {
      "cell_type": "code",
      "source": [
        "# Diviser les données en training_data (70%) et test_data (30%)\n",
        "training_data, test_data = transformed_data.randomSplit([0.7, 0.3], seed=42)\n",
        "\n",
        "# Afficher les tailles des ensembles\n",
        "print(f\"Nombre de lignes dans training_data : {training_data.count()}\")\n",
        "print(f\"Nombre de lignes dans test_data : {test_data.count()}\")\n",
        "\n",
        "# Nombre de lignes dans training_data : 524\n",
        "# Nombre de lignes dans test_data : 188\n"
      ],
      "metadata": {
        "id": "xE0UzN7UDktU",
        "colab": {
          "base_uri": "https://localhost:8080/"
        },
        "outputId": "b961821a-9ce7-46bd-b499-a08f057b9725"
      },
      "execution_count": null,
      "outputs": [
        {
          "output_type": "stream",
          "name": "stdout",
          "text": [
            "Nombre de lignes dans training_data : 524\n",
            "Nombre de lignes dans test_data : 188\n"
          ]
        }
      ]
    },
    {
      "cell_type": "code",
      "source": [
        "from pyspark.ml.classification import RandomForestClassifier\n"
      ],
      "metadata": {
        "id": "tkM4ItmLDrGz"
      },
      "execution_count": null,
      "outputs": []
    },
    {
      "cell_type": "code",
      "source": [
        "# Initialiser le RandomForestClassifier\n",
        "random_forest = RandomForestClassifier(labelCol='Survived', featuresCol='features', maxDepth=5)\n",
        "\n",
        "# Afficher les paramètres du modèle\n",
        "print(random_forest.explainParams())\n",
        "\n",
        "# 15 lignes affichées, avec des instructions au sujet des features du modèles.\n",
        "# Je distingue des maximums, des minimums, des probabilités, des seuils\n",
        "# C'est de toute évidence effectivement les paramètres d'un modèle\n"
      ],
      "metadata": {
        "id": "M9edMRArEDDb",
        "colab": {
          "base_uri": "https://localhost:8080/"
        },
        "outputId": "6064bd46-c5ea-473f-a7c5-6a19697226d4"
      },
      "execution_count": null,
      "outputs": [
        {
          "output_type": "stream",
          "name": "stdout",
          "text": [
            "bootstrap: Whether bootstrap samples are used when building trees. (default: True)\n",
            "cacheNodeIds: If false, the algorithm will pass trees to executors to match instances with nodes. If true, the algorithm will cache node IDs for each instance. Caching can speed up training of deeper trees. Users can set how often should the cache be checkpointed or disable it by setting checkpointInterval. (default: False)\n",
            "checkpointInterval: set checkpoint interval (>= 1) or disable checkpoint (-1). E.g. 10 means that the cache will get checkpointed every 10 iterations. Note: this setting will be ignored if the checkpoint directory is not set in the SparkContext. (default: 10)\n",
            "featureSubsetStrategy: The number of features to consider for splits at each tree node. Supported options: 'auto' (choose automatically for task: If numTrees == 1, set to 'all'. If numTrees > 1 (forest), set to 'sqrt' for classification and to 'onethird' for regression), 'all' (use all features), 'onethird' (use 1/3 of the features), 'sqrt' (use sqrt(number of features)), 'log2' (use log2(number of features)), 'n' (when n is in the range (0, 1.0], use n * number of features. When n is in the range (1, number of features), use n features). default = 'auto' (default: auto)\n",
            "featuresCol: features column name. (default: features, current: features)\n",
            "impurity: Criterion used for information gain calculation (case-insensitive). Supported options: entropy, gini (default: gini)\n",
            "labelCol: label column name. (default: label, current: Survived)\n",
            "leafCol: Leaf indices column name. Predicted leaf index of each instance in each tree by preorder. (default: )\n",
            "maxBins: Max number of bins for discretizing continuous features.  Must be >=2 and >= number of categories for any categorical feature. (default: 32)\n",
            "maxDepth: Maximum depth of the tree. (>= 0) E.g., depth 0 means 1 leaf node; depth 1 means 1 internal node + 2 leaf nodes. Must be in range [0, 30]. (default: 5, current: 5)\n",
            "maxMemoryInMB: Maximum memory in MB allocated to histogram aggregation. If too small, then 1 node will be split per iteration, and its aggregates may exceed this size. (default: 256)\n",
            "minInfoGain: Minimum information gain for a split to be considered at a tree node. (default: 0.0)\n",
            "minInstancesPerNode: Minimum number of instances each child must have after split. If a split causes the left or right child to have fewer than minInstancesPerNode, the split will be discarded as invalid. Should be >= 1. (default: 1)\n",
            "minWeightFractionPerNode: Minimum fraction of the weighted sample count that each child must have after split. If a split causes the fraction of the total weight in the left or right child to be less than minWeightFractionPerNode, the split will be discarded as invalid. Should be in interval [0.0, 0.5). (default: 0.0)\n",
            "numTrees: Number of trees to train (>= 1). (default: 20)\n",
            "predictionCol: prediction column name. (default: prediction)\n",
            "probabilityCol: Column name for predicted class conditional probabilities. Note: Not all models output well-calibrated probability estimates! These probabilities should be treated as confidences, not precise probabilities. (default: probability)\n",
            "rawPredictionCol: raw prediction (a.k.a. confidence) column name. (default: rawPrediction)\n",
            "seed: random seed. (default: -1356677967640345688)\n",
            "subsamplingRate: Fraction of the training data used for learning each decision tree, in range (0, 1]. (default: 1.0)\n",
            "thresholds: Thresholds in multi-class classification to adjust the probability of predicting each class. Array must have length equal to the number of classes, with values > 0, excepting that at most one value may be 0. The class with largest value p/t is predicted, where p is the original probability of that class and t is the class's threshold. (undefined)\n",
            "weightCol: weight column name. If this is not set or empty, we treat all instance weights as 1.0. (undefined)\n"
          ]
        }
      ]
    },
    {
      "cell_type": "markdown",
      "source": [
        "Entraînement du modèle"
      ],
      "metadata": {
        "id": "rdmGLfLCEHeb"
      }
    },
    {
      "cell_type": "code",
      "source": [
        "# Entraîner le modèle sur training_data\n",
        "modele_rf = random_forest.fit(training_data)\n",
        "\n",
        "# Afficher les informations du modèle\n",
        "print(\"Modèle entraîné avec succès.\")\n"
      ],
      "metadata": {
        "id": "p5KXDaSSEMXD",
        "colab": {
          "base_uri": "https://localhost:8080/"
        },
        "outputId": "316bb519-4238-45ac-b38d-46883cda140d"
      },
      "execution_count": null,
      "outputs": [
        {
          "output_type": "stream",
          "name": "stdout",
          "text": [
            "Modèle entraîné avec succès.\n"
          ]
        }
      ]
    },
    {
      "cell_type": "code",
      "source": [
        "# Utiliser le modèle pour faire des prédictions sur test_data\n",
        "predictions = modele_rf.transform(test_data)\n",
        "\n",
        "# Afficher un aperçu des prédictions\n",
        "predictions.select(\"features\", \"Survived\", \"prediction\").show(10)\n",
        "\n",
        "# Les prédictions sont correctement affichées.\n",
        "# Elles sont visiblement une probabilité de survie comprise entre 0 et 1\n"
      ],
      "metadata": {
        "id": "cREPGlSXERos",
        "colab": {
          "base_uri": "https://localhost:8080/"
        },
        "outputId": "0105be4b-78f3-4203-c191-4384225bf913"
      },
      "execution_count": null,
      "outputs": [
        {
          "output_type": "stream",
          "name": "stdout",
          "text": [
            "+--------------------+--------+----------+\n",
            "|            features|Survived|prediction|\n",
            "+--------------------+--------+----------+\n",
            "| [1.0,19.0,53.1,0.0]|       0|       0.0|\n",
            "| [1.0,24.0,79.2,0.0]|       0|       0.0|\n",
            "|[1.0,25.0,151.55,...|       0|       1.0|\n",
            "|[1.0,27.0,211.5,0.0]|       0|       0.0|\n",
            "| [1.0,29.0,66.6,0.0]|       0|       0.0|\n",
            "|[1.0,30.0,27.75,0.0]|       0|       0.0|\n",
            "|[1.0,31.0,50.4958...|       0|       0.0|\n",
            "|[1.0,36.0,78.85,0.0]|       0|       0.0|\n",
            "| [1.0,37.0,53.1,0.0]|       0|       0.0|\n",
            "|[1.0,38.0,153.462...|       0|       1.0|\n",
            "+--------------------+--------+----------+\n",
            "only showing top 10 rows\n",
            "\n"
          ]
        }
      ]
    },
    {
      "cell_type": "markdown",
      "source": [
        "Evaluation"
      ],
      "metadata": {
        "id": "oTK55l1eEfOG"
      }
    },
    {
      "cell_type": "code",
      "source": [
        "from pyspark.ml.evaluation import MulticlassClassificationEvaluator"
      ],
      "metadata": {
        "id": "vYGOmmVJEkI0"
      },
      "execution_count": null,
      "outputs": []
    },
    {
      "cell_type": "code",
      "source": [
        "# Initialiser l'évaluateur\n",
        "evaluator = MulticlassClassificationEvaluator(\n",
        "    labelCol='Survived',\n",
        "    predictionCol='prediction',\n",
        "    metricName='accuracy'\n",
        ")\n",
        "\n",
        "# Afficher les paramètres de l'évaluateur\n",
        "print(evaluator.explainParams())\n",
        "\n",
        "# les paramètres sont correctement affichés.\n",
        "# Les colonnes prédiction, probabilité sont citées.\n"
      ],
      "metadata": {
        "id": "sQ5nHOcWEvWN",
        "colab": {
          "base_uri": "https://localhost:8080/"
        },
        "outputId": "a4ee744e-04d8-4b15-ec76-751fd69bacea"
      },
      "execution_count": null,
      "outputs": [
        {
          "output_type": "stream",
          "name": "stdout",
          "text": [
            "beta: The beta value used in weightedFMeasure|fMeasureByLabel. Must be > 0. The default value is 1. (default: 1.0)\n",
            "eps: log-loss is undefined for p=0 or p=1, so probabilities are clipped to max(eps, min(1 - eps, p)). Must be in range (0, 0.5). The default value is 1e-15. (default: 1e-15)\n",
            "labelCol: label column name. (default: label, current: Survived)\n",
            "metricLabel: The class whose metric will be computed in truePositiveRateByLabel|falsePositiveRateByLabel|precisionByLabel|recallByLabel|fMeasureByLabel. Must be >= 0. The default value is 0. (default: 0.0)\n",
            "metricName: metric name in evaluation (f1|accuracy|weightedPrecision|weightedRecall|weightedTruePositiveRate| weightedFalsePositiveRate|weightedFMeasure|truePositiveRateByLabel| falsePositiveRateByLabel|precisionByLabel|recallByLabel|fMeasureByLabel| logLoss|hammingLoss) (default: f1, current: accuracy)\n",
            "predictionCol: prediction column name. (default: prediction, current: prediction)\n",
            "probabilityCol: Column name for predicted class conditional probabilities. Note: Not all models output well-calibrated probability estimates! These probabilities should be treated as confidences, not precise probabilities. (default: probability)\n",
            "weightCol: weight column name. If this is not set or empty, we treat all instance weights as 1.0. (undefined)\n"
          ]
        }
      ]
    },
    {
      "cell_type": "code",
      "source": [
        "# Évaluer les prédictions\n",
        "accuracy = evaluator.evaluate(predictions)\n",
        "\n",
        "# Afficher le résultat\n",
        "print(f\"Précision du modèle : {accuracy:.2f}\")\n",
        "\n",
        "# Diviser avec une autre proportion\n",
        "training_data, test_data = transformed_data.randomSplit([0.8, 0.2], seed=12)\n",
        "\n",
        "# Valeur du modèle de prédiction : 0.78 pour une proportion de 80/20.\n",
        "# Valeur du modèle : 0.78 pour une proportion de 90/10\n",
        "# Valeur du modèle : 0.78 pour une proportion de 60/40.\n",
        "# Seed 12 et proportion 80/20 :  0.78\n",
        "# soit le jeu de données est très très grand, soit il est particulièrement petit\n",
        "# ce qui explique pourquoi le modèle ne varie pas en fonction des proportions.\n",
        "\n"
      ],
      "metadata": {
        "id": "1PtLbv19E2wP",
        "colab": {
          "base_uri": "https://localhost:8080/"
        },
        "outputId": "b76f60a8-cbd5-4f56-c83f-573f36315780"
      },
      "execution_count": null,
      "outputs": [
        {
          "output_type": "stream",
          "name": "stdout",
          "text": [
            "Précision du modèle : 0.78\n"
          ]
        }
      ]
    },
    {
      "cell_type": "markdown",
      "source": [
        "##ANALYSE D'UNE BASE DE DONNEES SUR LE TITANIC\n",
        "Création du modèle prédictif de survie en fonction des caractéristiques des passagers"
      ],
      "metadata": {
        "id": "KzOx8ZeEYVsZ"
      }
    },
    {
      "cell_type": "code",
      "source": [
        "from pyspark.ml.stat import Correlation\n",
        "from pyspark.ml.feature import VectorAssembler\n",
        "\n",
        "# Assemblage des colonnes numériques pour la corrélation\n",
        "numeric_cols = ['Pclass', 'Age', 'Fare', 'Sex_Index']\n",
        "assembler_corr = VectorAssembler(inputCols=numeric_cols, outputCol='numeric_features')\n",
        "df_corr = assembler_corr.transform(df)\n",
        "\n",
        "# Calcul de la matrice de corrélation\n",
        "correlation_matrix = Correlation.corr(df_corr, 'numeric_features').head()[0]\n",
        "\n",
        "# Afficher la matrice de corrélation\n",
        "print(\"Matrice de corrélation :\")\n",
        "print(correlation_matrix.toArray())\n",
        "\n",
        "# Voir analyse détaillée dans le cadre suivant :\n"
      ],
      "metadata": {
        "id": "rUMnsl01FHUM",
        "colab": {
          "base_uri": "https://localhost:8080/"
        },
        "outputId": "3e6dd97e-3a63-4e93-ccf6-029dfa9828d1"
      },
      "execution_count": null,
      "outputs": [
        {
          "output_type": "stream",
          "name": "stdout",
          "text": [
            "Matrice de corrélation :\n",
            "[[ 1.         -0.36590186 -0.55289322 -0.15082621]\n",
            " [-0.36590186  1.          0.09314252 -0.09903723]\n",
            " [-0.55289322  0.09314252  1.          0.18245683]\n",
            " [-0.15082621 -0.09903723  0.18245683  1.        ]]\n"
          ]
        }
      ]
    },
    {
      "cell_type": "code",
      "source": [
        "import seaborn as sns\n",
        "import matplotlib.pyplot as plt\n",
        "import numpy as np\n",
        "\n",
        "# Matrice de corrélation\n",
        "correlation_matrix = np.array([\n",
        "    [1.0, -0.3659, -0.5529, -0.1508],\n",
        "    [-0.3659, 1.0, 0.0931, -0.0990],\n",
        "    [-0.5529, 0.0931, 1.0, 0.1824],\n",
        "    [-0.1508, -0.0990, 0.1824, 1.0]\n",
        "])\n",
        "\n",
        "# Labels des variables\n",
        "labels = ['Pclass', 'Age', 'Fare', 'Sex_Index']\n",
        "\n",
        "# Création de la heatmap\n",
        "plt.figure(figsize=(8, 6))\n",
        "sns.heatmap(correlation_matrix, annot=True, cmap='coolwarm', xticklabels=labels, yticklabels=labels)\n",
        "plt.title(\"Matrice de corrélation\")\n",
        "plt.show()\n",
        "\n",
        "# L'interprétation est plus facile avec une carte des températures :\n",
        "# La corrélation la plus grande est entre la classe et le prix du billet. Elle est négative = -0.55\n",
        "# Ce qui est assez logique : les passagers de première payent plus que ceux de 3ième classe\n",
        "# Corrélation faible mais positive entre le prix et l'âge. On peut effectivement supposer\n",
        "# que les passagers de première sont plus âgés que les jeunes qui voyagent à bas prix\n",
        "# pour aller chercher une nouvelle vie sur le nouveau continent.\n",
        "# Pas de réelle correlation entre l'âge et le sexe, autant d'hommes que de femme dans chaque classe d'âge\n",
        "# de même que dans chaque classe de billet : pas de correltion avec le sexe"
      ],
      "metadata": {
        "colab": {
          "base_uri": "https://localhost:8080/",
          "height": 545
        },
        "id": "hFNlGYGHESp6",
        "outputId": "51993c4e-c5e8-41a9-98aa-8dd39676b697"
      },
      "execution_count": null,
      "outputs": [
        {
          "output_type": "display_data",
          "data": {
            "text/plain": [
              "<Figure size 800x600 with 2 Axes>"
            ],
            "image/png": "[encoded data removed]"
          },
          "metadata": {}
        }
      ]
    },
    {
      "cell_type": "code",
      "source": [],
      "metadata": {
        "id": "WSZArax5EYvB"
      },
      "execution_count": null,
      "outputs": []
    }
  ]
}
